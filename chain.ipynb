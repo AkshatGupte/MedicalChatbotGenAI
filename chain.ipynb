{
 "cells": [
  {
   "cell_type": "code",
   "execution_count": 6,
   "id": "100f6729",
   "metadata": {},
   "outputs": [],
   "source": [
    "from dotenv import load_dotenv\n",
    "import os\n",
    "from pinecone import Pinecone\n",
    "from langchain_huggingface import HuggingFaceEmbeddings\n",
    "\n",
    "load_dotenv()\n",
    "\n",
    "api_key1 = os.getenv(\"PINECONE_API_KEY\")\n",
    "\n",
    "\n",
    "pc = Pinecone(api_key=api_key1)\n",
    "index = pc.Index(\"medibot\")\n"
   ]
  },
  {
   "cell_type": "code",
   "execution_count": 7,
   "id": "bb85d662",
   "metadata": {},
   "outputs": [],
   "source": [
    "embeddings = HuggingFaceEmbeddings(model='sentence-transformers/all-MiniLM-L6-v2')"
   ]
  },
  {
   "cell_type": "code",
   "execution_count": 9,
   "id": "987386dc",
   "metadata": {},
   "outputs": [],
   "source": [
    "from langchain_pinecone import PineconeVectorStore\n",
    "index_name = 'medibot'\n",
    "vector_store = PineconeVectorStore.from_existing_index(\n",
    "    index_name=index_name,\n",
    "    embedding=embeddings\n",
    ")"
   ]
  },
  {
   "cell_type": "code",
   "execution_count": 10,
   "id": "c1da4af1",
   "metadata": {},
   "outputs": [],
   "source": [
    "retriever = vector_store.as_retriever(search_type='similarity', search_kawgs={'k' : 4})"
   ]
  },
  {
   "cell_type": "code",
   "execution_count": 11,
   "id": "3722791f",
   "metadata": {},
   "outputs": [],
   "source": [
    "from langchain_core.prompts import PromptTemplate\n",
    "\n",
    "prompt = PromptTemplate(\n",
    "    template = '''You are a helpful assistant. Respond to the user queries only using the following context provided,\n",
    "    context: {context}, query: {query}\n",
    "    If there is not specific answer then respond I dont know.\n",
    "    ''',\n",
    "    input_variables=['context','query']\n",
    ")\n",
    "\n",
    "query = 'What causes cardiac arrest?'\n",
    "relevant_docs = retriever.invoke(query)"
   ]
  },
  {
   "cell_type": "code",
   "execution_count": 12,
   "id": "a21c206e",
   "metadata": {},
   "outputs": [],
   "source": [
    "def format_docs(retrieved_docs):\n",
    "  context = \"\\n\\n\".join(doc.page_content for doc in retrieved_docs)\n",
    "  return context"
   ]
  },
  {
   "cell_type": "code",
   "execution_count": 13,
   "id": "a66f095a",
   "metadata": {},
   "outputs": [],
   "source": [
    "from langchain_core.runnables import RunnableParallel, RunnablePassthrough, RunnableLambda\n",
    "from langchain_core.output_parsers import StrOutputParser"
   ]
  },
  {
   "cell_type": "code",
   "execution_count": 14,
   "id": "0d97f1fd",
   "metadata": {},
   "outputs": [],
   "source": [
    "parallel_chain = RunnableParallel({\n",
    "    'context': retriever | RunnableLambda(format_docs),\n",
    "    'query' : RunnablePassthrough()\n",
    "})"
   ]
  },
  {
   "cell_type": "code",
   "execution_count": 18,
   "id": "b29c649f",
   "metadata": {},
   "outputs": [],
   "source": [
    "from langchain_huggingface import HuggingFaceEndpoint, ChatHuggingFace\n",
    "\n",
    "llm = HuggingFaceEndpoint(\n",
    "    repo_id='openai/gpt-oss-20b',\n",
    "    task='text-generation',\n",
    "    huggingfacehub_api_token=os.getenv(\"HUGGINGFACE_ACCESS_TOKEN\")\n",
    ")\n",
    "\n",
    "model = ChatHuggingFace(llm=llm)"
   ]
  },
  {
   "cell_type": "code",
   "execution_count": 19,
   "id": "067d4fe3",
   "metadata": {},
   "outputs": [],
   "source": [
    "parser = StrOutputParser()\n",
    "\n",
    "main_chain = parallel_chain | prompt | model | parser"
   ]
  },
  {
   "cell_type": "code",
   "execution_count": 20,
   "id": "6acb91f4",
   "metadata": {},
   "outputs": [
    {
     "data": {
      "text/plain": [
       "'Cardiac arrest is caused by a sudden, often fatal disruption in the heart’s rhythm—most commonly ventricular fibrillation or ventricular tachycardia. These arrhythmias usually arise from underlying heart disease (such as a heart attack, myocarditis, or other structural problems) that interfere with the heart’s ability to pump effectively. When the heart stops beating or the rhythm becomes dangerously irregular, oxygen‑filled blood no longer reaches the brain and other vital organs, creating an emergency.'"
      ]
     },
     "execution_count": 20,
     "metadata": {},
     "output_type": "execute_result"
    }
   ],
   "source": [
    "main_chain.invoke('What causes cardiac arrest?')"
   ]
  },
  {
   "cell_type": "code",
   "execution_count": null,
   "id": "c4e7f8a4",
   "metadata": {},
   "outputs": [],
   "source": []
  }
 ],
 "metadata": {
  "kernelspec": {
   "display_name": "venv",
   "language": "python",
   "name": "python3"
  },
  "language_info": {
   "codemirror_mode": {
    "name": "ipython",
    "version": 3
   },
   "file_extension": ".py",
   "mimetype": "text/x-python",
   "name": "python",
   "nbconvert_exporter": "python",
   "pygments_lexer": "ipython3",
   "version": "3.12.2"
  }
 },
 "nbformat": 4,
 "nbformat_minor": 5
}
